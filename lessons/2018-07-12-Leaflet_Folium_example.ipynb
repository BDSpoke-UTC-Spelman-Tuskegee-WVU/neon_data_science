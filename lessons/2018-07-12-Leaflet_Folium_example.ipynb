{
 "cells": [
  {
   "cell_type": "markdown",
   "metadata": {},
   "source": [
    "# Creating interactive maps with Leaflet and Folium \n",
    "\n",
    "### Install updates and dependencies for Earth Engine API and Python Client\n",
    "\n",
    "This is a one time step.\n",
    "\n",
    "This notebook needs to be run in a Python 2 Kernel.\n",
    "\n",
    "We are going to update Conda, and install a few requirements for running geospatial data in the notebook."
   ]
  },
  {
   "cell_type": "code",
   "execution_count": null,
   "metadata": {},
   "outputs": [],
   "source": [
    "%%bash\n",
    "source activate ipykernel_py2 && \\\n",
    "conda update -n base conda && \\\n",
    "conda install -y -c conda-forge google-api-python-client earthengine-api pandas folium nodejs cython gdal"
   ]
  },
  {
   "cell_type": "code",
   "execution_count": null,
   "metadata": {},
   "outputs": [],
   "source": [
    "%%bash\n",
    "pip install --upgrade pip && \\\n",
    "pip install vega_datasets && \\\n",
    "pip install pyCrypto && \\\n",
    "pip install pathlib && \\\n",
    "pip install kml2geojson"
   ]
  },
  {
   "cell_type": "code",
   "execution_count": null,
   "metadata": {},
   "outputs": [],
   "source": [
    "%%bash\n",
    "jupyter labextension install @jupyterlab/geojson-extension"
   ]
  },
  {
   "cell_type": "markdown",
   "metadata": {},
   "source": [
    "After these dependencies have installed, you should be ready to go!"
   ]
  },
  {
   "cell_type": "markdown",
   "metadata": {},
   "source": [
    "## Authenticating to the Earth Engine servers"
   ]
  },
  {
   "cell_type": "code",
   "execution_count": null,
   "metadata": {},
   "outputs": [],
   "source": [
    "%%bash\n",
    "earthengine authenticate --quiet"
   ]
  },
  {
   "cell_type": "markdown",
   "metadata": {},
   "source": [
    "Once you have obtained an authorization code from the previous step, paste the code into the following cell and run it:"
   ]
  },
  {
   "cell_type": "code",
   "execution_count": null,
   "metadata": {},
   "outputs": [],
   "source": [
    "%%bash\n",
    "earthengine authenticate --authorization-code=4/AABEZqqZsujlVJUO8LzoSsMa6GqKhqGsq_n_M0HwOyrOWMasjDJev8Y"
   ]
  },
  {
   "cell_type": "markdown",
   "metadata": {},
   "source": [
    "## Import Python packages"
   ]
  },
  {
   "cell_type": "code",
   "execution_count": null,
   "metadata": {},
   "outputs": [],
   "source": [
    "from oauth2client import crypt"
   ]
  },
  {
   "cell_type": "code",
   "execution_count": null,
   "metadata": {},
   "outputs": [],
   "source": [
    "# import packages\n",
    "import pandas as pd\n",
    "import json\n",
    "import sys\n",
    "import ee \n",
    "\n",
    "ee.Initialize()\n",
    "\n",
    "import folium\n",
    "print(folium.__version__)\n",
    "sys.path.append('..')\n",
    "print (folium.__file__)\n",
    "print (folium.__version__)"
   ]
  },
  {
   "cell_type": "markdown",
   "metadata": {},
   "source": [
    "### Create definition files for working with Google Earth Engine"
   ]
  },
  {
   "cell_type": "code",
   "execution_count": null,
   "metadata": {},
   "outputs": [],
   "source": [
    "def folium_gee_map(image,vis_params=None,folium_kwargs={}):\n",
    "    \"\"\"\n",
    "    Function to view Google Earth Engine tile layer as a Folium map.\n",
    "    \n",
    "    Parameters\n",
    "    ----------\n",
    "    image : Google Earth Engine Image.\n",
    "    vis_params : Dict with visualization parameters.\n",
    "    folium_kwargs : Keyword args for Folium Map.\n",
    "    \"\"\"\n",
    "    \n",
    "    # Get the MapID and Token after applying parameters\n",
    "    image_info = image.getMapId(vis_params)\n",
    "    mapid = image_info['mapid']\n",
    "    token = image_info['token']\n",
    "    folium_kwargs['attr'] = ('Map Data &copy; <a href=\"https://earthengine.google.com/\">Google Earth Engine</a> ')\n",
    "    folium_kwargs['tiles'] = \"https://earthengine.googleapis.com/map/%s/{z}/{x}/{y}?token=%s\"%(mapid,token)\n",
    "    \n",
    "    return folium.Map(**folium_kwargs)\n",
    "\n",
    "def folium_gee_layer(folium_map,image,vis_params=None,folium_kwargs={}):\n",
    "    \"\"\"\n",
    "    Function to add Google Earch Engine tile layer as a Folium layer.\n",
    "    \n",
    "    Parameters\n",
    "    ----------\n",
    "    folium_map : Folium map to add tile to.\n",
    "    image : Google Earth Engine Image.\n",
    "    vis_params : Dict with visualization parameters.\n",
    "    folium_kwargs : Keyword args for Folium Map.\n",
    "    \"\"\"\n",
    "    \n",
    "    # Get the MapID and Token after applying parameters\n",
    "    image_info = image.getMapId(vis_params)\n",
    "    mapid = image_info['mapid']\n",
    "    token = image_info['token']\n",
    "    folium_kwargs['attr'] = ('Map Data &copy; <a href=\"https://earthengine.google.com/\">Google Earth Engine</a> ')\n",
    "    folium_kwargs['tiles'] = \"https://earthengine.googleapis.com/map/%s/{z}/{x}/{y}?token=%s\"%(mapid,token)\n",
    "    \n",
    "    layer = folium.TileLayer(**folium_kwargs)\n",
    "    layer.add_to(folium_map)\n"
   ]
  },
  {
   "cell_type": "markdown",
   "metadata": {},
   "source": [
    "### Initiate your connection to the CyVerse DataStore with iRODS iCommands\n",
    "\n",
    "This little script _MUST_ be run on a secure connection, else your password will be visible to anyone monitoring your work.\n",
    "\n",
    "If you're not comfortable entering your CyVerse password in the notebook, you can open a terminal session and type `iinit`\n",
    "\n",
    "You will be asked for your password there."
   ]
  },
  {
   "cell_type": "code",
   "execution_count": null,
   "metadata": {},
   "outputs": [],
   "source": [
    "import getpass\n",
    "import os\n",
    "\n",
    "_password = getpass.getpass()\n",
    "command = \"iinit\" # can be any command but don't forget -S as it enables input from stdin\n",
    "os.popen(command, 'w').write(_password+'\\n') # newline char is important otherwise prompt will wait for you to manually perform newline\n",
    "del(_password) # deletes your password on the notebook"
   ]
  },
  {
   "cell_type": "markdown",
   "metadata": {},
   "source": [
    "Now, we want to copy our data to a new scratch directory. If your user does not own the directory you will have to also use `chmod` to change ownership.\n",
    "\n",
    "```\n",
    "sudo mkdir -p /scratch/2016_Campaign/HARV/L1/DiscreteLidar\n",
    "sudo chown $USER:iplant-everone /scratch/ -R\n",
    "```\n",
    "\n",
    "Note, you will have to use `sudo` for directories your username does not own."
   ]
  },
  {
   "cell_type": "code",
   "execution_count": null,
   "metadata": {},
   "outputs": [],
   "source": [
    "import getpass\n",
    "import os\n",
    "_password = getpass.getpass()\n",
    "command = \"sudo chown $USER:$iplant-everyone /scratch/ -R\" # can be any command but don't forget -S as it enables input from stdin\n",
    "os.popen(command, 'w').write(_password+'\\n') # newline char is important otherwise prompt will wait for you to manually perform newline\n",
    "del(_password) # deletes your password on the notebook"
   ]
  },
  {
   "cell_type": "markdown",
   "metadata": {},
   "source": [
    "Import Santa Rita Experimental Range Data"
   ]
  },
  {
   "cell_type": "code",
   "execution_count": null,
   "metadata": {},
   "outputs": [],
   "source": [
    "%%bash\n",
    "mkdir -p /scratch/2017_Campaign/SRER/L1/"
   ]
  },
  {
   "cell_type": "code",
   "execution_count": null,
   "metadata": {},
   "outputs": [],
   "source": [
    "%%bash\n",
    "iget -Pbrv /iplant/home/shared/NEON_data_institute_2018/2017_Campaign/SRER/L1/LasBoundary /scratch/2017_Campaign/SRER/L1"
   ]
  },
  {
   "cell_type": "markdown",
   "metadata": {},
   "source": [
    "Convert the .kml to a .geojson file."
   ]
  },
  {
   "cell_type": "code",
   "execution_count": null,
   "metadata": {},
   "outputs": [],
   "source": [
    "%%python3\n",
    "import kml2geojson\n",
    "kml2geojson.main.convert(\"/scratch/2017_Campaign/SRER/L1/LasBoundary/full_boundary.kml\", \"/scratch/2017_Campaign/SRER/L1/LasBoundary/\")"
   ]
  },
  {
   "cell_type": "code",
   "execution_count": null,
   "metadata": {},
   "outputs": [],
   "source": [
    "# import geo json data\n",
    "import json\n",
    "full_boundary = json.load(open('/scratch/2017_Campaign/SRER/L1/LasBoundary/full_boundary.geojson'))"
   ]
  },
  {
   "cell_type": "code",
   "execution_count": null,
   "metadata": {},
   "outputs": [],
   "source": [
    "# Get an area to look at\n",
    "lat = 31.800\n",
    "lon = -110.865\n",
    "zoom_start=11\n",
    "\n",
    "# Open Street Map Base\n",
    "m = folium.Map(location=[lat, lon], tiles=\"OpenStreetMap\", zoom_start=zoom_start)\n",
    "\n",
    "# Add polygon outline of HARV\n",
    "full_boundary = json.load(open('/scratch/2017_Campaign/SRER/L1/LasBoundary/full_boundary.geojson'))\n",
    "folium.GeoJson(full_boundary).add_to(m)\n",
    "\n",
    "# Add GEE Terrain Layer\n",
    "image = ee.Image('srtm90_v4')\n",
    "vis_params = {'min':0.0, 'max':3000, 'palette':'00FFFF,0000FF'}\n",
    "folium_gee_layer(m,image,vis_params=vis_params,folium_kwargs={'overlay':True,'name':'SRTM'})\n",
    "\n",
    "# Create a reference to the LANDSAT 8 image collection\n",
    "l8 = ee.ImageCollection('LANDSAT/LC8_L1T_TOA')\n",
    "# Filter the LANDSAT collection down to a eight month period\n",
    "filtered = l8.filterDate('2016-05-01', '2016-09-30');\n",
    "# Use the mosaic reducer, to select the most recent pixel in areas of overlap\n",
    "l8_image = filtered.median()\n",
    "l8_vis_params = {'min': 0, 'max':0.3, 'bands':'B4,B3,B2'}\n",
    "folium_gee_layer(m,l8_image,l8_vis_params,folium_kwargs={'overlay':True,'name':'LANDSAT'})\n",
    "\n",
    "# Create a reference to the 2017 SRER NEON orthophotography image collection\n",
    "neon = ee.ImageCollection('users/gponce/usda_ars/image_collections/neon_srer_2017_rgb')\n",
    "neon_image = neon.median()\n",
    "neon_vis_params = {'min':0, 'max':255, 'bands':'b1,b2,b3'}\n",
    "folium_gee_layer(m,neon_image,neon_vis_params,folium_kwargs={'overlay':True,'name':'NEON'})\n",
    "\n",
    "# Create a reference to the 2016 sUAS orthophotography imager collection\n",
    "\n",
    "m.add_child(folium.LayerControl())\n",
    "m"
   ]
  },
  {
   "cell_type": "markdown",
   "metadata": {},
   "source": [
    "Import layer from Walnut Gulch"
   ]
  },
  {
   "cell_type": "code",
   "execution_count": null,
   "metadata": {},
   "outputs": [],
   "source": [
    "%%bash\n",
    "iget -Pvrf /iplant/home/shared/srer-wgew/data/wgew/sfm_2017/LH_20agl_9Oct2017_georef.tif /scratch/wgew"
   ]
  },
  {
   "cell_type": "code",
   "execution_count": 3,
   "metadata": {},
   "outputs": [
    {
     "name": "stdout",
     "output_type": "stream",
     "text": [
      "PROJCS[\"NAD_1983_UTM_Zone_12N\",\n",
      "    GEOGCS[\"NAD83\",\n",
      "        DATUM[\"North_American_Datum_1983\",\n",
      "            SPHEROID[\"GRS 1980\",6378137,298.2572221010042,\n",
      "                AUTHORITY[\"EPSG\",\"7019\"]],\n",
      "            AUTHORITY[\"EPSG\",\"6269\"]],\n",
      "        PRIMEM[\"Greenwich\",0],\n",
      "        UNIT[\"degree\",0.0174532925199433],\n",
      "        AUTHORITY[\"EPSG\",\"4269\"]],\n",
      "    PROJECTION[\"Transverse_Mercator\"],\n",
      "    PARAMETER[\"latitude_of_origin\",0],\n",
      "    PARAMETER[\"central_meridian\",-111],\n",
      "    PARAMETER[\"scale_factor\",0.9996],\n",
      "    PARAMETER[\"false_easting\",500000],\n",
      "    PARAMETER[\"false_northing\",0],\n",
      "    UNIT[\"metre\",1,\n",
      "        AUTHORITY[\"EPSG\",\"9001\"]],\n",
      "    AUTHORITY[\"EPSG\",\"26912\"]]\n"
     ]
    }
   ],
   "source": [
    "%%python3\n",
    "import gdal as gdal\n",
    "import osr as osr\n",
    "\n",
    "gdal.UseExceptions()\n",
    "\n",
    "fname = '/scratch/wgew/LH_20agl_9Oct2017_georef.tif'\n",
    "\n",
    "ds = gdal.Open(fname)\n",
    "data = ds.ReadAsArray()\n",
    "gt = ds.GetGeoTransform()\n",
    "proj = ds.GetProjection()\n",
    "\n",
    "inproj = osr.SpatialReference()\n",
    "inproj.ImportFromWkt(proj)\n",
    "\n",
    "print(inproj)"
   ]
  },
  {
   "cell_type": "code",
   "execution_count": 5,
   "metadata": {},
   "outputs": [
    {
     "name": "stdout",
     "output_type": "stream",
     "text": [
      "Creating output file that is 39200P x 28406L.\n",
      "Processing /scratch/wgew/LH_20agl_9Oct2017_georef.tif [1/1] : 0Using internal nodata values (e.g. 256) for image /scratch/wgew/LH_20agl_9Oct2017_georef.tif.\n",
      "Copying nodata values from source /scratch/wgew/LH_20agl_9Oct2017_georef.tif to destination /scratch/wgew/LH_20agl_9Oct2017_georef2.tif.\n",
      "...10...20...30...40...50...60...70...80...90...100 - done.\n"
     ]
    }
   ],
   "source": [
    "%%bash\n",
    "gdalwarp -t_srs EPSG:4326 -r near /scratch/wgew/LH_20agl_9Oct2017_georef.tif /scratch/wgew/LH_20agl_9Oct2017_georef2.tif"
   ]
  },
  {
   "cell_type": "code",
   "execution_count": null,
   "metadata": {},
   "outputs": [],
   "source": [
    "%%bash\n",
    "gdal_translate --config GDAL_CACHEMAX 4096 -of mbtiles  /scratch/wgew/LH_20agl_9Oct2017_georef2.tif /scratch/wgew/LH_20agl_9Oct2017_georef.mbtiles\n",
    "gdaladdo -r nearest /scratch/wgew/LH_20agl_9Oct2017_georef.mbtiles 2 4 8 16 "
   ]
  },
  {
   "cell_type": "code",
   "execution_count": null,
   "metadata": {},
   "outputs": [],
   "source": []
  },
  {
   "cell_type": "code",
   "execution_count": null,
   "metadata": {},
   "outputs": [],
   "source": []
  }
 ],
 "metadata": {
  "kernelspec": {
   "display_name": "Python 2",
   "language": "python",
   "name": "python2"
  },
  "language_info": {
   "codemirror_mode": {
    "name": "ipython",
    "version": 2
   },
   "file_extension": ".py",
   "mimetype": "text/x-python",
   "name": "python",
   "nbconvert_exporter": "python",
   "pygments_lexer": "ipython2",
   "version": "2.7.15"
  }
 },
 "nbformat": 4,
 "nbformat_minor": 2
}
