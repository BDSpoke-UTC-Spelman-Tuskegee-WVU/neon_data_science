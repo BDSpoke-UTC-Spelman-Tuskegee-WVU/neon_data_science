{
 "cells": [
  {
   "cell_type": "markdown",
   "metadata": {},
   "source": [
    "# Creating interactive maps with Leaflet and Folium \n",
    "\n",
    "### Install updates and dependencies for Earth Engine API and Python Client\n",
    "\n",
    "This is a one time step.\n",
    "\n",
    "This notebook needs to be run in a Python 2 Kernel.\n",
    "\n",
    "We are going to update Conda, and install a few requirements for running geospatial data in the notebook."
   ]
  },
  {
   "cell_type": "code",
   "execution_count": null,
   "metadata": {},
   "outputs": [],
   "source": [
    "%%bash\n",
    "source activate ipykernel_py2 && \\\n",
    "conda update -n base conda && \\\n",
    "conda install -y -c conda-forge earthengine-api pandas folium nodejs cython gdal && \\\n",
    "conda install -c cpcloud npm "
   ]
  },
  {
   "cell_type": "code",
   "execution_count": null,
   "metadata": {},
   "outputs": [],
   "source": [
    "%%bash\n",
    "source activate ipykernel_py2 && \\\n",
    "pip install --upgrade pip && \\\n",
    "pip install vega_datasets && \\\n",
    "pip install pyCrypto && \\\n",
    "pip install pathlib && \\\n",
    "pip install kml2geojson && \\\n",
    "pip install google-api-python-client"
   ]
  },
  {
   "cell_type": "code",
   "execution_count": 15,
   "metadata": {},
   "outputs": [
    {
     "name": "stdout",
     "output_type": "stream",
     "text": [
      "jupyterlab-geojson-extension-0.16.0.tgz\n",
      "yarn install v1.3.2\n",
      "info No lockfile found.\n",
      "[1/4] Resolving packages...\n",
      "[2/4] Fetching packages...\n",
      "info fsevents@1.2.4: The platform \"linux\" is incompatible with this module.\n",
      "info \"fsevents@1.2.4\" is an optional dependency and failed compatibility check. Excluding it from installation.\n",
      "[3/4] Linking dependencies...\n",
      "warning \"@jupyterlab/json-extension > react-json-tree@0.10.9\" has incorrect peer dependency \"react@^15.0.0\".\n",
      "warning \"@jupyterlab/json-extension > react-json-tree@0.10.9\" has incorrect peer dependency \"react-dom@^15.0.0\".\n",
      "warning \"@jupyterlab/vdom-extension > @nteract/transform-vdom@1.1.1\" has unmet peer dependency \"react@^15.6.1\".\n",
      "[4/4] Building fresh packages...\n",
      "warning Error running install script for optional dependency: \"/opt/anaconda3/share/jupyter/lab/staging/node_modules/canvas: Command failed.\\nExit code: 1\\nCommand: node-gyp rebuild\\nArguments: \\nDirectory: /opt/anaconda3/share/jupyter/lab/staging/node_modules/canvas\\nOutput:\\ngyp info it worked if it ends with ok\\ngyp info using node-gyp@3.6.2\\ngyp info using node@9.11.1 | linux | x64\\ngyp info spawn /opt/anaconda3/envs/ipykernel_py2/bin/python2\\ngyp info spawn args [ '/opt/anaconda3/envs/ipykernel_py2/lib/node_modules/npm/node_modules/node-gyp/gyp/gyp_main.py',\\ngyp info spawn args   'binding.gyp',\\ngyp info spawn args   '-f',\\ngyp info spawn args   'make',\\ngyp info spawn args   '-I',\\ngyp info spawn args   '/opt/anaconda3/share/jupyter/lab/staging/node_modules/canvas/build/config.gypi',\\ngyp info spawn args   '-I',\\ngyp info spawn args   '/opt/anaconda3/envs/ipykernel_py2/lib/node_modules/npm/node_modules/node-gyp/addon.gypi',\\ngyp info spawn args   '-I',\\ngyp info spawn args   '/home/tyson_swetnam/.node-gyp/9.11.1/include/node/common.gypi',\\ngyp info spawn args   '-Dlibrary=shared_library',\\ngyp info spawn args   '-Dvisibility=default',\\ngyp info spawn args   '-Dnode_root_dir=/home/tyson_swetnam/.node-gyp/9.11.1',\\ngyp info spawn args   '-Dnode_gyp_dir=/opt/anaconda3/envs/ipykernel_py2/lib/node_modules/npm/node_modules/node-gyp',\\ngyp info spawn args   '-Dnode_lib_file=/home/tyson_swetnam/.node-gyp/9.11.1/<(target_arch)/node.lib',\\ngyp info spawn args   '-Dmodule_root_dir=/opt/anaconda3/share/jupyter/lab/staging/node_modules/canvas',\\ngyp info spawn args   '-Dnode_engine=v8',\\ngyp info spawn args   '--depth=.',\\ngyp info spawn args   '--no-parallel',\\ngyp info spawn args   '--generator-output',\\ngyp info spawn args   'build',\\ngyp info spawn args   '-Goutput_dir=.' ]\\n./util/has_lib.sh: 31: ./util/has_lib.sh: pkg-config: not found\\ngyp: Call to './util/has_lib.sh freetype' returned exit status 0 while in binding.gyp. while trying to load binding.gyp\\ngyp ERR! configure error \\ngyp ERR! stack Error: `gyp` failed with exit code: 1\\ngyp ERR! stack     at ChildProcess.onCpExit (/opt/anaconda3/envs/ipykernel_py2/lib/node_modules/npm/node_modules/node-gyp/lib/configure.js:336:16)\\ngyp ERR! stack     at ChildProcess.emit (events.js:180:13)\\ngyp ERR! stack     at Process.ChildProcess._handle.onexit (internal/child_process.js:209:12)\\ngyp ERR! System Linux 4.4.0-130-generic\\ngyp ERR! command \\\"/opt/anaconda3/envs/ipykernel_py2/bin/node\\\" \\\"/opt/anaconda3/envs/ipykernel_py2/lib/node_modules/npm/node_modules/node-gyp/bin/node-gyp.js\\\" \\\"rebuild\\\"\\ngyp ERR! cwd /opt/anaconda3/share/jupyter/lab/staging/node_modules/canvas\\ngyp ERR! node -v v9.11.1\\ngyp ERR! node-gyp -v v3.6.2\\ngyp ERR! not ok\"\n",
      "info This module is OPTIONAL, you can safely ignore this error\n",
      "success Saved lockfile.\n",
      "Done in 16.50s.\n",
      "yarn run v1.3.2\n",
      "$ webpack --config webpack.prod.config.js\n",
      "Hash: 1e04c4a52ffef0014f00\n",
      "Version: webpack 2.7.0\n",
      "Time: 46403ms\n",
      "                                 Asset       Size  Chunks                    Chunk Names\n",
      "             0.fd6e37a34c5b2bf7ce80.js     623 kB       0  [emitted]  [big]  vega2\n",
      "  2273e3d8ad9264b7daa5bdbf8e6b47f8.png    1.47 kB          [emitted]         \n",
      "  4f0283c6ce28e888000e978e537a6a56.png    1.26 kB          [emitted]         \n",
      "  a6137456ed160d7606981aa57c559898.png  696 bytes          [emitted]         \n",
      "  401d815dc206b8dc1b17cd0e37695975.png    2.46 kB          [emitted]         \n",
      "  44a526eed258222515aa21eaffd14a96.png  618 bytes          [emitted]         \n",
      "af7ae505a9eed503f8b8e6982036873e.woff2    77.2 kB          [emitted]         \n",
      " fee66e712a8a08eef5805a46892932ad.woff      98 kB          [emitted]         \n",
      "  b06871f281fee6b241d60582ae9369b9.ttf     166 kB          [emitted]         \n",
      "  912ec66d7572ff821749319396470bde.svg     444 kB          [emitted]  [big]  \n",
      "  674f50d287a8c48dc19ba404d20fe713.eot     166 kB          [emitted]         \n",
      "             1.697f116e8467e0f2ccc6.js     458 kB       1  [emitted]  [big]  \n",
      "          main.464726d442ecf1f4b3f1.js    1.96 MB       2  [emitted]  [big]  main\n",
      "        vendor.ee2218d02f9718b60d10.js    1.55 MB       3  [emitted]  [big]  vendor\n",
      "      manifest.9c8ccc8e38160211f6de.js    1.65 kB       4  [emitted]         manifest\n",
      "         0.fd6e37a34c5b2bf7ce80.js.map    2.29 MB       0  [emitted]         vega2\n",
      "         1.697f116e8467e0f2ccc6.js.map    1.34 MB       1  [emitted]         \n",
      "      main.464726d442ecf1f4b3f1.js.map    6.21 MB       2  [emitted]         main\n",
      "    vendor.ee2218d02f9718b60d10.js.map    5.62 MB       3  [emitted]         vendor\n",
      "  manifest.9c8ccc8e38160211f6de.js.map    8.29 kB       4  [emitted]         manifest\n",
      "                            index.html    1.53 kB          [emitted]         \n",
      "[+HaM] ./~/@phosphor/messaging/lib/index.js 18.5 kB {3} [built]\n",
      "[2Kj9] ./~/@phosphor/widgets/lib/index.js 1.38 kB {3} [built]\n",
      "[8U58] ./~/codemirror/lib/codemirror.js 352 kB {3} [built]\n",
      "[CUbq] ./~/@phosphor/signaling/lib/index.js 18.1 kB {3} [built]\n",
      "[GiK3] ./~/react/index.js 190 bytes {3} [built]\n",
      "[Vszx] ./~/@phosphor/domutils/lib/index.js 636 bytes {3} [built]\n",
      "[cYMN] ./~/@phosphor/virtualdom/lib/index.js 21 kB {3} [built]\n",
      "[lMhA] ./~/@phosphor/dragdrop/lib/index.js 33.7 kB {3} [built]\n",
      "[nh00] ./~/@phosphor/disposable/lib/index.js 4.24 kB {3} [built]\n",
      "[qzHn] ./~/@phosphor/coreutils/lib/index.js 721 bytes {3} [built]\n",
      "[ug+F] ./~/xterm/lib/xterm.js 52.7 kB {3} [built]\n",
      "[wr2+] ./~/@phosphor/properties/lib/index.js 6.58 kB {3} [built]\n",
      "[y7VK] ./~/@phosphor/algorithm/lib/index.js 1.03 kB {3} [built]\n",
      "   [6] multi @phosphor/algorithm @phosphor/application @phosphor/commands @phosphor/coreutils @phosphor/datagrid @phosphor/disposable @phosphor/domutils @phosphor/dragdrop @phosphor/messaging @phosphor/properties @phosphor/signaling @phosphor/virtualdom @phosphor/widgets ajv ansi_up codemirror comment-json es6-promise marked moment path-posix react react-dom sanitize-html url-parse xterm 328 bytes {3} [built]\n",
      "   [7] multi whatwg-fetch ./build/index.out.js 40 bytes {2} [built]\n",
      "    + 1619 hidden modules\n",
      "Child html-webpack-plugin for \"index.html\":\n",
      "    [3IRH] (webpack)/buildin/module.js 517 bytes {0} [built]\n",
      "    [DuR2] (webpack)/buildin/global.js 509 bytes {0} [built]\n",
      "    [GTAU] ./~/html-loader!./templates/partial.html 420 bytes {0} [built]\n",
      "    [M4fF] ./~/lodash/lodash.js 540 kB {0} [built]\n",
      "    [vxCX] ./~/html-webpack-plugin/lib/loader.js!./templates/template.html 1.41 kB {0} [built]\n",
      "Done in 48.23s.\n"
     ]
    },
    {
     "name": "stderr",
     "output_type": "stream",
     "text": [
      "> /opt/anaconda3/envs/ipykernel_py2/bin/npm pack @jupyterlab/geojson-extension\n",
      "> node /opt/anaconda3/lib/python3.6/site-packages/jupyterlab/staging/yarn.js install\n",
      "> node /opt/anaconda3/lib/python3.6/site-packages/jupyterlab/staging/yarn.js run build:prod\n"
     ]
    }
   ],
   "source": [
    "%%bash\n",
    "source activate ipykernel_py2 && \\\n",
    "jupyter labextension install @jupyterlab/geojson-extension"
   ]
  },
  {
   "cell_type": "markdown",
   "metadata": {},
   "source": [
    "After these dependencies have installed, you should be ready to go!"
   ]
  },
  {
   "cell_type": "markdown",
   "metadata": {},
   "source": [
    "## Authenticating to the Earth Engine servers"
   ]
  },
  {
   "cell_type": "code",
   "execution_count": null,
   "metadata": {},
   "outputs": [],
   "source": [
    "%%bash\n",
    "earthengine authenticate --quiet"
   ]
  },
  {
   "cell_type": "markdown",
   "metadata": {},
   "source": [
    "Once you have obtained an authorization code from the previous step, paste the code into the following cell and run it:"
   ]
  },
  {
   "cell_type": "code",
   "execution_count": 13,
   "metadata": {},
   "outputs": [
    {
     "name": "stderr",
     "output_type": "stream",
     "text": [
      "bash: line 1: earthengine: command not found\n"
     ]
    }
   ],
   "source": [
    "%%bash\n",
    "earthengine authenticate --authorization-code=4/AABEZqqZsujlVJUO8LzoSsMa6GqKhqGsq_n_M0HwOyrOWMasjDJev8Y"
   ]
  },
  {
   "cell_type": "markdown",
   "metadata": {},
   "source": [
    "## Import Python packages"
   ]
  },
  {
   "cell_type": "code",
   "execution_count": null,
   "metadata": {},
   "outputs": [],
   "source": [
    "from oauth2client import crypt"
   ]
  },
  {
   "cell_type": "code",
   "execution_count": null,
   "metadata": {},
   "outputs": [],
   "source": [
    "# import packages\n",
    "import pandas as pd\n",
    "import json\n",
    "import sys\n",
    "import ee \n",
    "\n",
    "ee.Initialize()\n",
    "\n",
    "import folium\n",
    "print(folium.__version__)\n",
    "sys.path.append('..')\n",
    "print (folium.__file__)\n",
    "print (folium.__version__)"
   ]
  },
  {
   "cell_type": "markdown",
   "metadata": {},
   "source": [
    "### Create definition files for working with Google Earth Engine"
   ]
  },
  {
   "cell_type": "code",
   "execution_count": null,
   "metadata": {},
   "outputs": [],
   "source": [
    "def folium_gee_map(image,vis_params=None,folium_kwargs={}):\n",
    "    \"\"\"\n",
    "    Function to view Google Earth Engine tile layer as a Folium map.\n",
    "    \n",
    "    Parameters\n",
    "    ----------\n",
    "    image : Google Earth Engine Image.\n",
    "    vis_params : Dict with visualization parameters.\n",
    "    folium_kwargs : Keyword args for Folium Map.\n",
    "    \"\"\"\n",
    "    \n",
    "    # Get the MapID and Token after applying parameters\n",
    "    image_info = image.getMapId(vis_params)\n",
    "    mapid = image_info['mapid']\n",
    "    token = image_info['token']\n",
    "    folium_kwargs['attr'] = ('Map Data &copy; <a href=\"https://earthengine.google.com/\">Google Earth Engine</a> ')\n",
    "    folium_kwargs['tiles'] = \"https://earthengine.googleapis.com/map/%s/{z}/{x}/{y}?token=%s\"%(mapid,token)\n",
    "    \n",
    "    return folium.Map(**folium_kwargs)\n",
    "\n",
    "def folium_gee_layer(folium_map,image,vis_params=None,folium_kwargs={}):\n",
    "    \"\"\"\n",
    "    Function to add Google Earch Engine tile layer as a Folium layer.\n",
    "    \n",
    "    Parameters\n",
    "    ----------\n",
    "    folium_map : Folium map to add tile to.\n",
    "    image : Google Earth Engine Image.\n",
    "    vis_params : Dict with visualization parameters.\n",
    "    folium_kwargs : Keyword args for Folium Map.\n",
    "    \"\"\"\n",
    "    \n",
    "    # Get the MapID and Token after applying parameters\n",
    "    image_info = image.getMapId(vis_params)\n",
    "    mapid = image_info['mapid']\n",
    "    token = image_info['token']\n",
    "    folium_kwargs['attr'] = ('Map Data &copy; <a href=\"https://earthengine.google.com/\">Google Earth Engine</a> ')\n",
    "    folium_kwargs['tiles'] = \"https://earthengine.googleapis.com/map/%s/{z}/{x}/{y}?token=%s\"%(mapid,token)\n",
    "    \n",
    "    layer = folium.TileLayer(**folium_kwargs)\n",
    "    layer.add_to(folium_map)\n"
   ]
  },
  {
   "cell_type": "markdown",
   "metadata": {},
   "source": [
    "### Initiate your connection to the CyVerse DataStore with iRODS iCommands\n",
    "\n",
    "This little script _MUST_ be run on a secure connection, else your password will be visible to anyone monitoring your work.\n",
    "\n",
    "If you're not comfortable entering your CyVerse password in the notebook, you can open a terminal session and type `iinit`\n",
    "\n",
    "You will be asked for your password there."
   ]
  },
  {
   "cell_type": "code",
   "execution_count": null,
   "metadata": {},
   "outputs": [],
   "source": [
    "import getpass\n",
    "import os\n",
    "\n",
    "_password = getpass.getpass()\n",
    "command = \"iinit\" # can be any command but don't forget -S as it enables input from stdin\n",
    "os.popen(command, 'w').write(_password+'\\n') # newline char is important otherwise prompt will wait for you to manually perform newline\n",
    "del(_password) # deletes your password on the notebook"
   ]
  },
  {
   "cell_type": "markdown",
   "metadata": {},
   "source": [
    "Now, we want to copy our data to a new scratch directory. If your user does not own the directory you will have to also use `chmod` to change ownership.\n",
    "\n",
    "```\n",
    "sudo mkdir -p /scratch/2016_Campaign/HARV/L1/DiscreteLidar\n",
    "sudo chown $USER:iplant-everone /scratch/ -R\n",
    "```\n",
    "\n",
    "Note, you will have to use `sudo` for directories your username does not own."
   ]
  },
  {
   "cell_type": "code",
   "execution_count": null,
   "metadata": {},
   "outputs": [],
   "source": [
    "import getpass\n",
    "import os\n",
    "_password = getpass.getpass()\n",
    "command = \"sudo chown $USER:$iplant-everyone /scratch/ -R\" # can be any command but don't forget -S as it enables input from stdin\n",
    "os.popen(command, 'w').write(_password+'\\n') # newline char is important otherwise prompt will wait for you to manually perform newline\n",
    "del(_password) # deletes your password on the notebook"
   ]
  },
  {
   "cell_type": "markdown",
   "metadata": {},
   "source": [
    "Import Santa Rita Experimental Range Data"
   ]
  },
  {
   "cell_type": "code",
   "execution_count": null,
   "metadata": {},
   "outputs": [],
   "source": [
    "%%bash\n",
    "mkdir -p /scratch/2017_Campaign/SRER/L1/"
   ]
  },
  {
   "cell_type": "code",
   "execution_count": null,
   "metadata": {},
   "outputs": [],
   "source": [
    "%%bash\n",
    "iget -Pbrv /iplant/home/shared/NEON_data_institute_2018/2017_Campaign/SRER/L1/LasBoundary /scratch/2017_Campaign/SRER/L1"
   ]
  },
  {
   "cell_type": "markdown",
   "metadata": {},
   "source": [
    "Convert the .kml to a .geojson file."
   ]
  },
  {
   "cell_type": "code",
   "execution_count": null,
   "metadata": {},
   "outputs": [],
   "source": [
    "%%python3\n",
    "import kml2geojson\n",
    "kml2geojson.main.convert(\"/scratch/2017_Campaign/SRER/L1/LasBoundary/full_boundary.kml\", \"/scratch/2017_Campaign/SRER/L1/LasBoundary/\")"
   ]
  },
  {
   "cell_type": "code",
   "execution_count": null,
   "metadata": {},
   "outputs": [],
   "source": [
    "# import geo json data\n",
    "import json\n",
    "full_boundary = json.load(open('/scratch/2017_Campaign/SRER/L1/LasBoundary/full_boundary.geojson'))"
   ]
  },
  {
   "cell_type": "code",
   "execution_count": null,
   "metadata": {},
   "outputs": [],
   "source": [
    "# Get an area to look at\n",
    "lat = 31.800\n",
    "lon = -110.865\n",
    "zoom_start=11\n",
    "\n",
    "# Open Street Map Base\n",
    "m = folium.Map(location=[lat, lon], tiles=\"OpenStreetMap\", zoom_start=zoom_start)\n",
    "\n",
    "# Add polygon outline of HARV\n",
    "full_boundary = json.load(open('/scratch/2017_Campaign/SRER/L1/LasBoundary/full_boundary.geojson'))\n",
    "folium.GeoJson(full_boundary).add_to(m)\n",
    "\n",
    "# Add GEE Terrain Layer\n",
    "image = ee.Image('srtm90_v4')\n",
    "vis_params = {'min':0.0, 'max':3000, 'palette':'00FFFF,0000FF'}\n",
    "folium_gee_layer(m,image,vis_params=vis_params,folium_kwargs={'overlay':True,'name':'SRTM'})\n",
    "\n",
    "# Create a reference to the LANDSAT 8 image collection\n",
    "l8 = ee.ImageCollection('LANDSAT/LC8_L1T_TOA')\n",
    "# Filter the LANDSAT collection down to a eight month period\n",
    "filtered = l8.filterDate('2016-05-01', '2016-09-30');\n",
    "# Use the mosaic reducer, to select the most recent pixel in areas of overlap\n",
    "l8_image = filtered.median()\n",
    "l8_vis_params = {'min': 0, 'max':0.3, 'bands':'B4,B3,B2'}\n",
    "folium_gee_layer(m,l8_image,l8_vis_params,folium_kwargs={'overlay':True,'name':'LANDSAT'})\n",
    "\n",
    "# Create a reference to the 2017 SRER NEON orthophotography image collection\n",
    "neon = ee.ImageCollection('users/gponce/usda_ars/image_collections/neon_srer_2017_rgb')\n",
    "neon_image = neon.median()\n",
    "neon_vis_params = {'min':0, 'max':255, 'bands':'b1,b2,b3'}\n",
    "folium_gee_layer(m,neon_image,neon_vis_params,folium_kwargs={'overlay':True,'name':'NEON'})\n",
    "\n",
    "# Create a reference to the 2016 sUAS orthophotography imager collection\n",
    "\n",
    "m.add_child(folium.LayerControl())\n",
    "m"
   ]
  },
  {
   "cell_type": "markdown",
   "metadata": {},
   "source": [
    "Import layer from Walnut Gulch"
   ]
  },
  {
   "cell_type": "code",
   "execution_count": null,
   "metadata": {},
   "outputs": [],
   "source": [
    "%%bash\n",
    "iget -Pvrf /iplant/home/shared/srer-wgew/data/wgew/sfm_2017/LH_20agl_9Oct2017_georef.tif /scratch/wgew"
   ]
  },
  {
   "cell_type": "code",
   "execution_count": 3,
   "metadata": {},
   "outputs": [
    {
     "name": "stdout",
     "output_type": "stream",
     "text": [
      "PROJCS[\"NAD_1983_UTM_Zone_12N\",\n",
      "    GEOGCS[\"NAD83\",\n",
      "        DATUM[\"North_American_Datum_1983\",\n",
      "            SPHEROID[\"GRS 1980\",6378137,298.2572221010042,\n",
      "                AUTHORITY[\"EPSG\",\"7019\"]],\n",
      "            AUTHORITY[\"EPSG\",\"6269\"]],\n",
      "        PRIMEM[\"Greenwich\",0],\n",
      "        UNIT[\"degree\",0.0174532925199433],\n",
      "        AUTHORITY[\"EPSG\",\"4269\"]],\n",
      "    PROJECTION[\"Transverse_Mercator\"],\n",
      "    PARAMETER[\"latitude_of_origin\",0],\n",
      "    PARAMETER[\"central_meridian\",-111],\n",
      "    PARAMETER[\"scale_factor\",0.9996],\n",
      "    PARAMETER[\"false_easting\",500000],\n",
      "    PARAMETER[\"false_northing\",0],\n",
      "    UNIT[\"metre\",1,\n",
      "        AUTHORITY[\"EPSG\",\"9001\"]],\n",
      "    AUTHORITY[\"EPSG\",\"26912\"]]\n"
     ]
    }
   ],
   "source": [
    "%%python3\n",
    "import gdal as gdal\n",
    "import osr as osr\n",
    "\n",
    "gdal.UseExceptions()\n",
    "\n",
    "fname = '/scratch/wgew/LH_20agl_9Oct2017_georef.tif'\n",
    "\n",
    "ds = gdal.Open(fname)\n",
    "data = ds.ReadAsArray()\n",
    "gt = ds.GetGeoTransform()\n",
    "proj = ds.GetProjection()\n",
    "\n",
    "inproj = osr.SpatialReference()\n",
    "inproj.ImportFromWkt(proj)\n",
    "\n",
    "print(inproj)"
   ]
  },
  {
   "cell_type": "code",
   "execution_count": 5,
   "metadata": {},
   "outputs": [
    {
     "name": "stdout",
     "output_type": "stream",
     "text": [
      "Creating output file that is 39200P x 28406L.\n",
      "Processing /scratch/wgew/LH_20agl_9Oct2017_georef.tif [1/1] : 0Using internal nodata values (e.g. 256) for image /scratch/wgew/LH_20agl_9Oct2017_georef.tif.\n",
      "Copying nodata values from source /scratch/wgew/LH_20agl_9Oct2017_georef.tif to destination /scratch/wgew/LH_20agl_9Oct2017_georef2.tif.\n",
      "...10...20...30...40...50...60...70...80...90...100 - done.\n"
     ]
    }
   ],
   "source": [
    "%%bash\n",
    "gdalwarp -t_srs EPSG:4326 -r near /scratch/wgew/LH_20agl_9Oct2017_georef.tif /scratch/wgew/LH_20agl_9Oct2017_georef2.tif"
   ]
  },
  {
   "cell_type": "code",
   "execution_count": null,
   "metadata": {},
   "outputs": [],
   "source": [
    "%%bash\n",
    "gdal_translate --config GDAL_CACHEMAX 4096 -of mbtiles  /scratch/wgew/LH_20agl_9Oct2017_georef2.tif /scratch/wgew/LH_20agl_9Oct2017_georef.mbtiles\n",
    "gdaladdo -r nearest /scratch/wgew/LH_20agl_9Oct2017_georef.mbtiles 2 4 8 16 "
   ]
  },
  {
   "cell_type": "code",
   "execution_count": null,
   "metadata": {},
   "outputs": [],
   "source": []
  },
  {
   "cell_type": "code",
   "execution_count": null,
   "metadata": {},
   "outputs": [],
   "source": []
  }
 ],
 "metadata": {
  "kernelspec": {
   "display_name": "Python 2",
   "language": "python",
   "name": "python2"
  },
  "language_info": {
   "codemirror_mode": {
    "name": "ipython",
    "version": 2
   },
   "file_extension": ".py",
   "mimetype": "text/x-python",
   "name": "python",
   "nbconvert_exporter": "python",
   "pygments_lexer": "ipython2",
   "version": "2.7.15"
  }
 },
 "nbformat": 4,
 "nbformat_minor": 2
}
