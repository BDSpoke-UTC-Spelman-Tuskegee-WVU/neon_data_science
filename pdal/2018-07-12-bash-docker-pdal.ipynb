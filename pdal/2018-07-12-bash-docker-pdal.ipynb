{
 "cells": [
  {
   "cell_type": "markdown",
   "metadata": {},
   "source": [
    "**This Notebook requires a Bash Kernel**"
   ]
  },
  {
   "cell_type": "markdown",
   "metadata": {},
   "source": [
    "# Point Data Abstraction Library (PDAL) \n",
    "\n",
    "Least importantly, [PDAL](https://pdal.io), is pronounced 'Poo-dal' by its developers [Hobu Inc.](https://hobu.co/), in homage to [GDAL](http://www.gdal.org/) (whose creator pronounces as 'Goo-dal').\n",
    "\n",
    "Most importantly, PDAL is a utilitarian software library for handling point cloud data that is fast, scalable, and free!\n",
    "\n",
    "## Step 1: Get PDAL\n",
    "\n",
    "We are going to use Docker. This is because we are working on potentially dozens of remote machines, with various software stacks. Docker levels the playing field and allows us to install software without worring about it breaking. If we are running Docker on HPC, we can use Singularity to convert the containers.\n",
    "\n",
    "### Docker\n",
    "\n",
    "If you haven't yet, install Docker on the VM using the `ezd` command, follow subsequent instructions for removing the use of `sudo` and restart the VM. \n",
    "\n",
    "Pull the [PDAL Docker](https://hub.docker.com/r/pdal/pdal/) container from its [DockerHub](https://hub.docker.com/) location:"
   ]
  },
  {
   "cell_type": "code",
   "execution_count": null,
   "metadata": {},
   "outputs": [],
   "source": [
    "docker pull pdal/pdal:latest"
   ]
  },
  {
   "cell_type": "markdown",
   "metadata": {},
   "source": [
    "## Step 2: Get Some Data\n",
    "\n",
    "At this point you're ready to do some analyses with PDAL"
   ]
  },
  {
   "cell_type": "markdown",
   "metadata": {},
   "source": [
    "Next, we need to pull some data onto this virtual instance."
   ]
  },
  {
   "cell_type": "markdown",
   "metadata": {},
   "source": [
    "From a console, initiate the iRODS connection using the `iinit` command."
   ]
  },
  {
   "cell_type": "markdown",
   "metadata": {},
   "source": [
    "|field|response|\n",
    "|-----|--------|\n",
    "|host name (DNS)|data.cyverse.org|\n",
    "|port number|1247|\n",
    "|user name|$USER|\n",
    "|irods zone|iplant|\n",
    "|irods password|type password|"
   ]
  },
  {
   "cell_type": "markdown",
   "metadata": {},
   "source": [
    "Now you're ready to pull data from the CyVerse data store onto the virtual instance."
   ]
  },
  {
   "cell_type": "markdown",
   "metadata": {},
   "source": [
    "Create a new scratch directory for the lidar data: "
   ]
  },
  {
   "cell_type": "code",
   "execution_count": null,
   "metadata": {},
   "outputs": [],
   "source": [
    "mkdir -p /scratch/NEON_data_institute_2018/2017_Campaign/TEAK/L1/DiscreteLidar/"
   ]
  },
  {
   "cell_type": "markdown",
   "metadata": {},
   "source": [
    "Pull the 2017 SRER classified lidar data from the Community Folder on the CyVerse data store using the `iget` command:"
   ]
  },
  {
   "cell_type": "code",
   "execution_count": null,
   "metadata": {},
   "outputs": [],
   "source": [
    "iget -Pbrvf /iplant/home/shared/NEON_data_institute_2018/2017_Campaign/TEAK/L1/DiscreteLidar/ClassifiedPointCloud /scratch/NEON_data_institute_2018/2017_Campaign/TEAK/L1/DiscreteLidar/"
   ]
  },
  {
   "cell_type": "markdown",
   "metadata": {},
   "source": []
  },
  {
   "cell_type": "code",
   "execution_count": null,
   "metadata": {},
   "outputs": [],
   "source": [
    "docker run \\\n",
    "    -v /scratch/NEON_data_institute_2018/2017_Campaign/TEAK/L1/DiscreteLidar/ClassifiedPointCloud:/data \\\n",
    "    pdal/pdal pdal info \\\n",
    "    data/NEON_D17_TEAK_DP1_313000_4097000_classified_point_cloud.laz \\\n",
    "    -p 1 "
   ]
  },
  {
   "cell_type": "markdown",
   "metadata": {},
   "source": [
    "Find the boundaries of the tile"
   ]
  },
  {
   "cell_type": "code",
   "execution_count": null,
   "metadata": {},
   "outputs": [],
   "source": [
    "docker run \\\n",
    "    -v /scratch/NEON_data_institute_2018/2017_Campaign/TEAK/L1/DiscreteLidar/ClassifiedPointCloud:/data \\\n",
    "    pdal/pdal pdal info \\\n",
    "    data/NEON_D17_TEAK_DP1_313000_4097000_classified_point_cloud.laz \\\n",
    "    --boundary"
   ]
  },
  {
   "cell_type": "markdown",
   "metadata": {},
   "source": [
    "# Entwine and Greyhound \n",
    "\n",
    "[Entwine](https://entwine.io/) and [Greyhound](https://greyhound.io/) are created and owned by Hobu Inc. \n",
    "\n",
    "Entwine creates an indexed directory of files for viewing lidar data in your browser. These tiles are served by Greyhound.\n",
    "\n",
    "Here I'm going to launch the Greyhound server on my localhost, this will allow me to view Entwine output results in my browser"
   ]
  },
  {
   "cell_type": "code",
   "execution_count": null,
   "metadata": {},
   "outputs": [],
   "source": [
    "docker pull connormanning/greyhound:latest"
   ]
  },
  {
   "cell_type": "code",
   "execution_count": null,
   "metadata": {},
   "outputs": [],
   "source": [
    "docker pull connormanning/entwine:latest"
   ]
  },
  {
   "cell_type": "markdown",
   "metadata": {},
   "source": [
    "Next, I'm going to start Entwine as a background process."
   ]
  },
  {
   "cell_type": "code",
   "execution_count": 4,
   "metadata": {},
   "outputs": [
    {
     "name": "stdout",
     "output_type": "stream",
     "text": [
      "Using default config\n",
      "Settings:\n",
      "\tCache: 209715200 bytes\n",
      "\tThreads: 4\n",
      "\tResource timeout: 2 minutes\n",
      "\tTmp dir: /tmp\n",
      "Paths:\n",
      "\t/greyhound\n",
      "\t~/greyhound\n",
      "\t/entwine\n",
      "\t~/entwine\n",
      "\t/opt/data\n",
      "Headers:\n",
      "\tAccess-Control-Allow-Methods: GET,PUT,POST,DELETE\n",
      "\tAccess-Control-Allow-Origin: *\n",
      "\tCache-Control: public, max-age=300\n",
      "Writes NOT allowed\n",
      "Static serve:\n",
      "\t/usr/include/greyhound/public\n",
      "Listening:\n",
      "\tHTTP: 8080\n",
      "^C"
     ]
    }
   ],
   "source": [
    "docker run -it -v $HOME/entwine:/opt/data -p 8080:8080 connormanning/greyhound"
   ]
  },
  {
   "cell_type": "markdown",
   "metadata": {},
   "source": [
    "Process a single tile from the SRER and put it into a directory that is can be read by Greyhound. The home directory of your username should be readable (`~/entwine`).\n",
    "\n",
    "I'm also going to convert the projection using the web-mercator.json file in the /pdal directory of the Git Repo. "
   ]
  },
  {
   "cell_type": "code",
   "execution_count": 6,
   "metadata": {},
   "outputs": [
    {
     "name": "stdout",
     "output_type": "stream",
     "text": [
      "Scanning input\n",
      "1 / 2: pdal_files/web-mercator.json\n",
      "2 / 2: input/NEON_D17_TEAK_DP1_313000_4097000_classified_point_cloud.laz\n",
      "\n",
      "Version: 2.0.0\n",
      "Input:\n",
      "\tFiles: 2\n",
      "\tTotal points: 4,608,681\n",
      "\tDensity estimate (per square unit): 5.15719\n",
      "\tThreads: [3, 5]\n",
      "Output:\n",
      "\tPath: output/teak-test/\n",
      "\tData type: laszip\n",
      "\tHierarchy type: json\n",
      "\tHierarchy step: auto\n",
      "\tSleep count: 2097152\n",
      "\tScale: 0.01\n",
      "\tOffset: (313553, 4097500, 1887)\n",
      "Metadata:\n",
      "\tNative bounds: [(313106, 4096999, 938), (314000, 4098000, 2836)]\n",
      "\tCubic bounds: [(312603, 4096550, 937), (314503, 4098450, 2837)]\n",
      "\tScaled cube: [(-95000, -95000, -95000), (95000, 95000, 95000)]\n",
      "\tReprojection: (none)\n",
      "\tStoring dimensions: [\n",
      "                X:int32, Y:int32, Z:int32, Intensity:uint16, ReturnNumber:uint8,\n",
      "                NumberOfReturns:uint8, ScanDirectionFlag:uint8,\n",
      "                EdgeOfFlightLine:uint8, Classification:uint8, ScanAngleRank:float,\n",
      "                UserData:uint8, PointSourceId:uint16, GpsTime:double, OriginId:uint32\n",
      "\t]\n",
      "Build parameters:\n",
      "\tTicks: 256\n",
      "\tResolution 2D: 256 * 256 = 65,536\n",
      "\tResolution 3D: 256 * 256 * 256 = 16,777,216\n",
      "\tOverflow threshold: 32,768\n",
      "\n",
      "Adding 1 - input/NEON_D17_TEAK_DP1_313000_4097000_classified_point_cloud.laz\n",
      "\tPushes complete - joining...\n",
      " T: 10s R: 1,659(1,659)M/h A: 5,242,880 U: 71% I: 4,608,681 P: 100% W: 67 R: 1\n",
      "\tDone 1\n",
      "Reawakened: 1\n",
      "Saving registry...\n",
      "Saving metadata...\n",
      "\n",
      "Index completed in 13 seconds.\n",
      "Save complete.  Indexing stats:\n",
      "\tPoints inserted: 4,608,681\n",
      "\tPoints discarded:\n",
      "\t\tOutside specified bounds: 0\n",
      "\t\tOverflow past max depth: 0\n",
      "\n"
     ]
    }
   ],
   "source": [
    "docker run -it \\\n",
    "    -v /scratch/neon_data_science/pdal:/pdal_files \\\n",
    "    -v /scratch/NEON_data_institute_2018/2017_Campaign/TEAK/L1/DiscreteLidar/ClassifiedPointCloud:/input \\\n",
    "    -v ~/entwine:/output \\\n",
    "    connormanning/entwine build \\\n",
    "    pdal_files/web-mercator.json \\\n",
    "    -i input/NEON_D17_TEAK_DP1_313000_4097000_classified_point_cloud.laz \\\n",
    "    -o output/teak-test"
   ]
  },
  {
   "cell_type": "markdown",
   "metadata": {},
   "source": [
    "View the outputs here: http://potree.entwine.io/data/custom.html?s=localhost:8080&r=teak-test"
   ]
  },
  {
   "cell_type": "markdown",
   "metadata": {},
   "source": [
    "We can see that there are a lot of outliers in these data. We want to filter these out using PDAL's outlier tools"
   ]
  },
  {
   "cell_type": "code",
   "execution_count": 7,
   "metadata": {},
   "outputs": [],
   "source": [
    "mkdir /scratch/NEON_data_institute_2018/2017_Campaign/TEAK/FilteredClassifiedPointCloud"
   ]
  },
  {
   "cell_type": "markdown",
   "metadata": {},
   "source": [
    "Now, I'm going to iterate individual jobs and docker containers across the number of cores on the machine using the `-P` flag for `xargs`\n",
    "\n",
    "I use PDAL's `pipeline` feature with a .json file called `outlier.json` to filter the outliers from the individual tiles"
   ]
  },
  {
   "cell_type": "code",
   "execution_count": null,
   "metadata": {},
   "outputs": [
    {
     "name": "stdout",
     "output_type": "stream",
     "text": [
      "(pdal pipeline filters.outlier Warning) Requested filter would remove all points. Try a larger radius/smaller minimum neighbors.\n"
     ]
    }
   ],
   "source": [
    "cd /scratch/NEON_data_institute_2018/2017_Campaign/TEAK/L1/DiscreteLidar/ClassifiedPointCloud\n",
    "ls *.laz | cut -d. -f1 | xargs -P4 -I{} \\\n",
    "docker run \\\n",
    "    -v /scratch/neon_data_science/pdal:/pdal_files \\\n",
    "    -v /scratch/NEON_data_institute_2018/2017_Campaign/TEAK/L1/DiscreteLidar/ClassifiedPointCloud:/data \\\n",
    "    -v /scratch/NEON_data_institute_2018/2017_Campaign/TEAK/FilteredClassifiedPointCloud:/filtered \\\n",
    "    pdal/pdal pdal \\\n",
    "    pipeline pdal_files/outlier.json \\\n",
    "    --readers.las.filename=/data/{}.laz \\\n",
    "    --writers.las.filename=/filtered/{}.laz"
   ]
  },
  {
   "cell_type": "markdown",
   "metadata": {},
   "source": [
    "After the collection has been filtered for outliers, we will run Entwine on the entire directory:"
   ]
  },
  {
   "cell_type": "code",
   "execution_count": null,
   "metadata": {},
   "outputs": [],
   "source": [
    "docker run -it -v $HOME:$HOME \\\n",
    "    -v $HOME/QUBES_NEON/pdal:/pdal_files \\\n",
    "    -v /home/tswetnam/DiscreteLidar/FilteredClassifiedPointCloud:/data \\\n",
    "    connormanning/entwine build \\\n",
    "    pdal_files/web-mercator.json \\\n",
    "    -i data/ \\\n",
    "    -o ~/entwine/srer"
   ]
  },
  {
   "cell_type": "code",
   "execution_count": null,
   "metadata": {},
   "outputs": [],
   "source": [
    "docker run -it \\\n",
    "    -v /scratch/NEON_data_institute_2018/2017_Campaign/TEAK/L1/DiscreteLidar/ClassifiedPointCloud:/data \\\n",
    "    connormanning/entwine build \\\n",
    "    -i /data/NEON_D17_TEAK_DP1_313000_4097000_classified_point_cloud.laz \\\n",
    "    -o ~/entwine/teak-test"
   ]
  },
  {
   "cell_type": "code",
   "execution_count": null,
   "metadata": {},
   "outputs": [],
   "source": [
    "docker run \\\n",
    "-v /vol_c/SRER/L1/DiscreteLidar/FilteredClassifiedPointCloud/:/input \\\n",
    "-v /home/tswetnam/potree/pointclouds/:/output \\\n",
    "potreeconverter PotreeConverter /input \\\n",
    "--overwrite \\\n",
    "-p SRER \\\n",
    "-o /output/SRER \\\n",
    "--title \"Santa Rita Experimental Range, Arizona\" \\\n",
    "--description \"2017 NEON Aerial Observation Platform Discrite Lidar\" \\\n",
    "--scale 0.001 \\\n",
    "--output-format LAZ \\\n",
    "--output-attributes INTENSITY \\\n",
    "--projection \"+proj=longlat +datum=WGS84 +no_defs\""
   ]
  },
  {
   "cell_type": "code",
   "execution_count": null,
   "metadata": {},
   "outputs": [],
   "source": []
  }
 ],
 "metadata": {
  "kernelspec": {
   "display_name": "Bash",
   "language": "bash",
   "name": "bash"
  },
  "language_info": {
   "codemirror_mode": "shell",
   "file_extension": ".sh",
   "mimetype": "text/x-sh",
   "name": "bash"
  }
 },
 "nbformat": 4,
 "nbformat_minor": 2
}
