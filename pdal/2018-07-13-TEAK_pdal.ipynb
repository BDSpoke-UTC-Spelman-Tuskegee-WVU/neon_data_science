{
 "cells": [
  {
   "cell_type": "markdown",
   "metadata": {},
   "source": [
    "# Setup\n",
    "\n",
    "## Install PDAL\n",
    "\n",
    "With Conda\n",
    "\n",
    "```\n",
    "conda install -c conda-forge pdal python-pdal\n",
    "```\n",
    "\n",
    "With Docker\n",
    "\n",
    "```\n",
    "docker pull pdal/pdal:latest\n",
    "```"
   ]
  },
  {
   "cell_type": "markdown",
   "metadata": {},
   "source": [
    "## Move the Data on to the VM\n",
    "\n",
    "#### Create a working directory\n",
    "\n",
    "```\n",
    "sudo mkdir -p /vol_c/NEON_data_institute_2018/2017_Campaign/TEAK/L1/DiscreteLidar/\n",
    "```"
   ]
  },
  {
   "cell_type": "markdown",
   "metadata": {},
   "source": [
    "#### Move files from CyVerse DataStore onto the VM\n",
    "\n",
    "```\n",
    "iget -Kvrf /iplant/home/shared/NEON_data_institute_2018/2017_Campaign/TEAK/L1/DiscreteLidar/ClassifiedPointCloud/\n",
    "```"
   ]
  },
  {
   "cell_type": "markdown",
   "metadata": {},
   "source": [
    "## Build Potree from Dockerfile"
   ]
  },
  {
   "cell_type": "markdown",
   "metadata": {},
   "source": [
    "Create a Potree Docker container using the provided Dockerfile\n",
    "\n",
    "```\n",
    "docker build -t tswetnam/potreeconverter:0.1 .\n",
    "```\n",
    "\n",
    "The container is named `tswetnam/potreeconverter:0.1` with tag `0.1`\n",
    "\n",
    "Run the container on the Classified Point Cloud `.laz` data delivered from NEON:\n",
    "\n",
    "```\n",
    "docker run \\\n",
    "    -v /vol_b/NEON_data_institute_2018/2017_Campaign/TEAK/L1/DiscreteLidar/ClassifiedPointCloud/:/input \\\n",
    "    -v /vol_b/potree/pointclouds/:/output \\\n",
    "    tswetnam/potreeconverter:0.1 \\\n",
    "    PotreeConverter /input/ -p TEAK -o /output/TEAK_outliers\n",
    "```"
   ]
  },
  {
   "cell_type": "markdown",
   "metadata": {},
   "source": [
    "To view the outputs, you can move the data into the `/var/www/` folder on your VM.\n",
    "Access the IP address with the `/TEAK.html` extension"
   ]
  },
  {
   "cell_type": "markdown",
   "metadata": {},
   "source": [
    "Note that there are plenty of outliers in this model."
   ]
  },
  {
   "cell_type": "markdown",
   "metadata": {},
   "source": [
    "## PDAL outlier removal\n",
    "\n",
    "We now want to filter the outliers away using `pdal` and its pipeline .json capability.\n",
    "\n",
    "We have created a file called `outlier.json` which uses some of PDAL's filtering properties to get rid of the unwanted points.\n",
    "\n",
    "```\n",
    "{\n",
    "  \"pipeline\":[\n",
    "    \"/data/{}.laz\",\n",
    "    {\n",
    "      \"type\":\"filters.outlier\",\n",
    "      \"method\":\"statistical\",\n",
    "      \"mean_k\":12,\n",
    "      \"multiplier\":2.2\n",
    "    },\n",
    "    {\n",
    "      \"type\":\"filters.range\",\n",
    "      \"limits\":\"Classification![7:7]\"\n",
    "    },\n",
    "    {\n",
    "      \"type\":\"writers.las\",\n",
    "      \"filename\":\"/vol_c/filtered/{}.laz\"\n",
    "    }\n",
    "  ]\n",
    "}\n",
    "```\n",
    "\n",
    "In this example `.json` I'm using a wildcard `{}` for the file name, PDAL's [filters.outlier](https://pdal.io/stages/filters.outlier.html#filters-outlier), to remove statisical outliers, and [filters.range](ttps://pdal.io/stages/filters.outlier.html) to remove points that have been classified as class 7 (outliers).\n",
    "\n",
    "I'm then writing the file to a new working directory."
   ]
  },
  {
   "cell_type": "code",
   "execution_count": null,
   "metadata": {},
   "outputs": [],
   "source": [
    "%%bash\n",
    "sudo docker pull pdal/pdal:latest"
   ]
  },
  {
   "cell_type": "markdown",
   "metadata": {},
   "source": [
    "To run the job over an entire collection, I'm using the Docker version of PDAL and a bash script:\n",
    "\n",
    "```\n",
    "ls *.laz | cut -d. -f1 | xargs -P6 -I{}\n",
    "```\n",
    "\n",
    "that will loop through the directory and run up to the number of cores on the VM I'm using. \n",
    "\n",
    "I need to create an output directory for the files at this time\n",
    "\n",
    "```\n",
    "mkdir /vol_b/filtered\n",
    "```\n",
    "\n",
    "Next, `cd` into a directory where the `*.laz` files are kept."
   ]
  },
  {
   "cell_type": "code",
   "execution_count": null,
   "metadata": {},
   "outputs": [],
   "source": [
    "%%bash\n",
    "ls *.laz | cut -d. -f1 | xargs -P6 -I{} \\\n",
    "sudo docker run \\\n",
    "-v /vol_b/neon_data_science:/home \\\n",
    "-v /vol_b:/vol_b \\\n",
    "-v /vol_b/NEON_data_institute_2018/2017_Campaign/TEAK/L1/DiscreteLidar/ClassifiedPointCloud/:/data \\\n",
    "pdal/pdal:latest pdal \\\n",
    "pipeline /home/pdal/outlier.json \\\n",
    "--readers.las.filename=/data/{}.laz \\\n",
    "--writers.las.filename=/vol_b/filtered/{}.laz"
   ]
  },
  {
   "cell_type": "markdown",
   "metadata": {},
   "source": [
    "```\n",
    "docker run \\\n",
    "    -v /vol_b/filtered/:/input \\\n",
    "    -v /vol_b/potree/pointclouds/:/output \\\n",
    "    tswetnam/potreeconverter:0.1 \\\n",
    "    PotreeConverter /input/ -p TEAK -o /output/TEAK_filtered\n",
    "```"
   ]
  },
  {
   "cell_type": "markdown",
   "metadata": {},
   "source": [
    "##LAStools outlier removal\n",
    "\n",
    "Remove the Class 7s using Dockerized `las2las`\n",
    "```\n",
    "sudo docker run \\\n",
    "-v /vol_b/NEON_data_institute_2018/2017_Campaign/TEAK/L1/DiscreteLidar/ClassifiedPointCloud/:/input \\\n",
    "-v /vol_b/filtered_lastools/:/output \\\n",
    "tswetnam/lastools:0.1 las2las \\\n",
    "-i /input/NEON_D17_TEAK_DP1_320000_4092000_classified_point_cloud.laz \\\n",
    "-o /output/NEON_D17_TEAK_DP1_320000_4092000_classified_point_cloud.laz \\\n",
    "-drop_class 7\n",
    "```"
   ]
  },
  {
   "cell_type": "markdown",
   "metadata": {},
   "source": [
    "Run Dockerized Potree on the filtered `*.laz`\n",
    "\n",
    "```\n",
    "docker run \\\n",
    "    -v /vol_b/filtered_lastools/:/input \\\n",
    "    -v /vol_b/potree/pointclouds/:/output \\\n",
    "    tswetnam/potreeconverter:0.1 \\\n",
    "    PotreeConverter /input/ -p TEAK_filtered -o /output/TEAK_filtered\n",
    "```"
   ]
  },
  {
   "cell_type": "code",
   "execution_count": null,
   "metadata": {},
   "outputs": [],
   "source": [
    "sudo docker run \\\n",
    "-v /vol_b/NEON_data_institute_2018/2017_Campaign/TEAK/L1/DiscreteLidar/ClassifiedPointCloud/:/input \\\n",
    "-v /vol_b/filtered_lastools/:/output \\\n",
    "tswetnam/lastools:0.1 las2las \\\n",
    "-i /input/* \\\n",
    "-o /output/* \\\n",
    "-drop_class 7"
   ]
  },
  {
   "cell_type": "markdown",
   "metadata": {},
   "source": [
    "# Running a Potree server\n",
    "\n",
    "Install Apache2\n",
    "\n",
    "```\n",
    "sudo apt-get update && \\\n",
    "sudo apt-get install apache2\n",
    "```\n",
    "\n",
    "to start the web server\n",
    "\n",
    "```\n",
    "sudo service apache2 start\n",
    "```"
   ]
  },
  {
   "cell_type": "markdown",
   "metadata": {},
   "source": [
    "Move the Potree directory to the `/var/www/html` directory on the VM. \n",
    "\n",
    "After you've moved the files, you can open a new browser tab and copy the IP address of the VM with the `<IP>/potree/pointclouds/TEAK_outliers/TEAK.html` to view the Potreee"
   ]
  },
  {
   "cell_type": "code",
   "execution_count": 5,
   "metadata": {},
   "outputs": [
    {
     "data": {
      "text/html": [
       "<iframe src=\"http://129.114.19.9/potree/pointclouds/TEAK_filtered/TEAK_filtered.html\" width=\"800\" height=\"600\"/>"
      ],
      "text/plain": [
       "<IPython.core.display.HTML object>"
      ]
     },
     "metadata": {},
     "output_type": "display_data"
    }
   ],
   "source": [
    "%%html\n",
    "<iframe src=\"http://129.114.19.9/potree/pointclouds/TEAK_filtered/TEAK_filtered.html\" width=\"800\" height=\"600\"/>"
   ]
  },
  {
   "cell_type": "code",
   "execution_count": null,
   "metadata": {},
   "outputs": [],
   "source": []
  }
 ],
 "metadata": {
  "kernelspec": {
   "display_name": "Python 3",
   "language": "python",
   "name": "python3"
  },
  "language_info": {
   "codemirror_mode": {
    "name": "ipython",
    "version": 3
   },
   "file_extension": ".py",
   "mimetype": "text/x-python",
   "name": "python",
   "nbconvert_exporter": "python",
   "pygments_lexer": "ipython3",
   "version": "3.6.4"
  }
 },
 "nbformat": 4,
 "nbformat_minor": 2
}
